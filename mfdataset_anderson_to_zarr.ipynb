{
 "cells": [
  {
   "cell_type": "markdown",
   "metadata": {},
   "source": [
    "# Read COAWST model data from NetCDF"
   ]
  },
  {
   "cell_type": "code",
   "execution_count": null,
   "metadata": {},
   "outputs": [],
   "source": [
    "import xarray as xr\n",
    "import glob\n",
    "\n",
    "from dask.distributed import Client\n",
    "from dask_jobqueue import SLURMCluster"
   ]
  },
  {
   "cell_type": "code",
   "execution_count": null,
   "metadata": {},
   "outputs": [],
   "source": [
    "#cluster = SLURMCluster(processes=1, cores=1, memory='8GB', \n",
    "#                       project='woodshole', walltime='00:30:00', queue='normal',\n",
    "#                      interface='ib0', reservation='acc')"
   ]
  },
  {
   "cell_type": "code",
   "execution_count": null,
   "metadata": {},
   "outputs": [],
   "source": [
    "cluster = SLURMCluster(processes=1, cores=1, memory='8GB', interface='ipogif0',\n",
    "                       project='woodshole', walltime='00:30:00')"
   ]
  },
  {
   "cell_type": "code",
   "execution_count": null,
   "metadata": {},
   "outputs": [],
   "source": [
    "client = Client(cluster)\n",
    "print(cluster.job_script())"
   ]
  },
  {
   "cell_type": "code",
   "execution_count": null,
   "metadata": {},
   "outputs": [],
   "source": [
    "cluster.scale(20)"
   ]
  },
  {
   "cell_type": "code",
   "execution_count": null,
   "metadata": {},
   "outputs": [],
   "source": []
  },
  {
   "cell_type": "code",
   "execution_count": null,
   "metadata": {},
   "outputs": [],
   "source": [
    "files = '/caldera/projects/usgs/hazards/cmgp/woodshole/rsignell/EarthMap/Projects/de_bay/run_001/ocean_deb_his_run07A_zo015_*.nc'\n",
    "ds0 = xr.open_mfdataset(files, parallel=True, chunks={'ocean_time':5})"
   ]
  },
  {
   "cell_type": "code",
   "execution_count": null,
   "metadata": {},
   "outputs": [],
   "source": [
    "ds0 = ds0.chunk({'ocean_time':5})"
   ]
  },
  {
   "cell_type": "code",
   "execution_count": null,
   "metadata": {},
   "outputs": [],
   "source": [
    "zarr_ds = '/caldera/projects/usgs/hazards/cmgp/woodshole/rsignell/EarthMap/Projects/de_bay/zarr_002'\n"
   ]
  },
  {
   "cell_type": "code",
   "execution_count": null,
   "metadata": {},
   "outputs": [],
   "source": [
    "task = ds0.to_zarr(zarr_ds, consolidated=True, compute=False, mode='w')"
   ]
  },
  {
   "cell_type": "code",
   "execution_count": null,
   "metadata": {},
   "outputs": [],
   "source": [
    "futures = client.compute(task, retries=5)"
   ]
  },
  {
   "cell_type": "code",
   "execution_count": null,
   "metadata": {},
   "outputs": [],
   "source": [
    "client.cancel(futures)"
   ]
  },
  {
   "cell_type": "code",
   "execution_count": null,
   "metadata": {},
   "outputs": [],
   "source": [
    "flist = glob.glob('/caldera/projects/usgs/hazards/cmgp/woodshole/rsignell/EarthMap/Projects/de_bay/run_001/ocean_deb_his_run07A_zo015_*.nc')"
   ]
  },
  {
   "cell_type": "code",
   "execution_count": null,
   "metadata": {},
   "outputs": [],
   "source": [
    "flist.sort()"
   ]
  },
  {
   "cell_type": "code",
   "execution_count": null,
   "metadata": {},
   "outputs": [],
   "source": [
    "flist"
   ]
  },
  {
   "cell_type": "code",
   "execution_count": null,
   "metadata": {},
   "outputs": [],
   "source": [
    "investigate dask retry"
   ]
  },
  {
   "cell_type": "code",
   "execution_count": null,
   "metadata": {},
   "outputs": [],
   "source": [
    "zarr_ds = '/caldera/projects/usgs/hazards/cmgp/woodshole/rsignell/EarthMap/Projects/de_bay/zarr_001'\n",
    "for file in flist[8:]:\n",
    "    print(file)\n",
    "    ds = xr.open_dataset(file, chunks={'ocean_time':1})\n",
    "    if '00001' in file:\n",
    "        ds.to_zarr(zarr_ds, consolidated=True, mode='w')\n",
    "    else:\n",
    "        ds.to_zarr(zarr_ds, consolidated=True, append_dim='ocean_time')"
   ]
  },
  {
   "cell_type": "code",
   "execution_count": null,
   "metadata": {},
   "outputs": [],
   "source": [
    "5761/721"
   ]
  },
  {
   "cell_type": "code",
   "execution_count": null,
   "metadata": {},
   "outputs": [],
   "source": [
    "cluster.close()"
   ]
  },
  {
   "cell_type": "code",
   "execution_count": null,
   "metadata": {},
   "outputs": [],
   "source": []
  }
 ],
 "metadata": {
  "kernelspec": {
   "display_name": "Python 3",
   "language": "python",
   "name": "python3"
  },
  "language_info": {
   "codemirror_mode": {
    "name": "ipython",
    "version": 3
   },
   "file_extension": ".py",
   "mimetype": "text/x-python",
   "name": "python",
   "nbconvert_exporter": "python",
   "pygments_lexer": "ipython3",
   "version": "3.7.8"
  },
  "widgets": {
   "application/vnd.jupyter.widget-state+json": {
    "state": {
     "0de608186f8f4adda84c47f1bcef9c75": {
      "model_module": "@jupyter-widgets/controls",
      "model_module_version": "1.4.0",
      "model_name": "AccordionModel",
      "state": {
       "_titles": {
        "0": "Manual Scaling",
        "1": "Adaptive Scaling"
       },
       "children": [
        "IPY_MODEL_5b615884c4754e5b9554fed6c8354afa",
        "IPY_MODEL_bd8fbf17814543a68ba0e7315a6beace"
       ],
       "layout": "IPY_MODEL_e6ff42c45dba40f09cc83a18521132ef",
       "selected_index": null
      }
     },
     "10e1f7037c8c401aaf1e504a8f576f24": {
      "model_module": "@jupyter-widgets/controls",
      "model_module_version": "1.4.0",
      "model_name": "VBoxModel",
      "state": {
       "layout": "IPY_MODEL_b7bf2091520847108fdf04ace7fecf5b"
      }
     },
     "228546a6647341d79e03bef96a40f32d": {
      "model_module": "@jupyter-widgets/controls",
      "model_module_version": "1.4.0",
      "model_name": "IntTextModel",
      "state": {
       "description": "Workers",
       "layout": "IPY_MODEL_fca387d5f12946e9bbbce7581a4179c4",
       "step": 1,
       "style": "IPY_MODEL_9e378fdcb9ed42fcb8d520471226b9cb"
      }
     },
     "291cb0ccde184c9b99c17a33fcfba3b5": {
      "model_module": "@jupyter-widgets/base",
      "model_module_version": "1.1.0",
      "model_name": "LayoutModel",
      "state": {}
     },
     "3bfa48076b1d40efbff1dced5a756fa1": {
      "model_module": "@jupyter-widgets/controls",
      "model_module_version": "1.4.0",
      "model_name": "HBoxModel",
      "state": {
       "children": [
        "IPY_MODEL_a22d3fd129c44046bd9935b8bd6937c9",
        "IPY_MODEL_0de608186f8f4adda84c47f1bcef9c75"
       ],
       "layout": "IPY_MODEL_ebf6bd36007240d2a47706c48f23fbb3"
      }
     },
     "425056ed1ef94e7a87682636c612a33b": {
      "model_module": "@jupyter-widgets/base",
      "model_module_version": "1.1.0",
      "model_name": "LayoutModel",
      "state": {}
     },
     "474491cc1b244e079061de3a62c63b5c": {
      "model_module": "@jupyter-widgets/controls",
      "model_module_version": "1.4.0",
      "model_name": "DescriptionStyleModel",
      "state": {
       "description_width": ""
      }
     },
     "567482b84f664fa5ba8aca6a3def3a21": {
      "model_module": "@jupyter-widgets/controls",
      "model_module_version": "1.4.0",
      "model_name": "ButtonStyleModel",
      "state": {}
     },
     "57d674eb420c4458bc1b003a9b823858": {
      "model_module": "@jupyter-widgets/controls",
      "model_module_version": "1.4.0",
      "model_name": "VBoxModel",
      "state": {
       "children": [
        "IPY_MODEL_b9199d439e9c4d6aaaf010c5b49d7fd8",
        "IPY_MODEL_3bfa48076b1d40efbff1dced5a756fa1",
        "IPY_MODEL_cd80d4c0609748e8a6d00b14748ecd1b"
       ],
       "layout": "IPY_MODEL_291cb0ccde184c9b99c17a33fcfba3b5"
      }
     },
     "5b615884c4754e5b9554fed6c8354afa": {
      "model_module": "@jupyter-widgets/controls",
      "model_module_version": "1.4.0",
      "model_name": "HBoxModel",
      "state": {
       "children": [
        "IPY_MODEL_228546a6647341d79e03bef96a40f32d",
        "IPY_MODEL_d13cb955e0cb4d95bee44590871c56fb"
       ],
       "layout": "IPY_MODEL_ffc64aa00b0c4e19af41c093654d8aae"
      }
     },
     "84640ddff10a444c9e36928c5d03b4af": {
      "model_module": "@jupyter-widgets/controls",
      "model_module_version": "1.4.0",
      "model_name": "DescriptionStyleModel",
      "state": {
       "description_width": ""
      }
     },
     "9763004b1aa64e80991f8f60196329f7": {
      "model_module": "@jupyter-widgets/base",
      "model_module_version": "1.1.0",
      "model_name": "LayoutModel",
      "state": {}
     },
     "9e378fdcb9ed42fcb8d520471226b9cb": {
      "model_module": "@jupyter-widgets/controls",
      "model_module_version": "1.4.0",
      "model_name": "DescriptionStyleModel",
      "state": {
       "description_width": ""
      }
     },
     "a22d3fd129c44046bd9935b8bd6937c9": {
      "model_module": "@jupyter-widgets/controls",
      "model_module_version": "1.4.0",
      "model_name": "HTMLModel",
      "state": {
       "layout": "IPY_MODEL_f223af6da9ab49d193908bb3265038c0",
       "style": "IPY_MODEL_f2b3175064f742f9a45bcb6269c6d4a8",
       "value": "\n<div>\n  <style scoped>\n    .dataframe tbody tr th:only-of-type {\n        vertical-align: middle;\n    }\n\n    .dataframe tbody tr th {\n        vertical-align: top;\n    }\n\n    .dataframe thead th {\n        text-align: right;\n    }\n  </style>\n  <table style=\"text-align: right;\">\n    <tr><th>Workers</th> <td>2</td></tr>\n    <tr><th>Cores</th> <td>8</td></tr>\n    <tr><th>Memory</th> <td>120.00 GB</td></tr>\n  </table>\n</div>\n"
      }
     },
     "a27a3e7966ab4c53bd69ded2ba5e8e9e": {
      "model_module": "@jupyter-widgets/controls",
      "model_module_version": "1.4.0",
      "model_name": "DescriptionStyleModel",
      "state": {
       "description_width": ""
      }
     },
     "b7a03867241648dc87b347606e9d8868": {
      "model_module": "@jupyter-widgets/controls",
      "model_module_version": "1.4.0",
      "model_name": "DescriptionStyleModel",
      "state": {
       "description_width": ""
      }
     },
     "b7bf2091520847108fdf04ace7fecf5b": {
      "model_module": "@jupyter-widgets/base",
      "model_module_version": "1.1.0",
      "model_name": "LayoutModel",
      "state": {}
     },
     "b9199d439e9c4d6aaaf010c5b49d7fd8": {
      "model_module": "@jupyter-widgets/controls",
      "model_module_version": "1.4.0",
      "model_name": "HTMLModel",
      "state": {
       "layout": "IPY_MODEL_425056ed1ef94e7a87682636c612a33b",
       "style": "IPY_MODEL_474491cc1b244e079061de3a62c63b5c",
       "value": "<h2>SLURMCluster</h2>"
      }
     },
     "bd8fbf17814543a68ba0e7315a6beace": {
      "model_module": "@jupyter-widgets/controls",
      "model_module_version": "1.4.0",
      "model_name": "HBoxModel",
      "state": {
       "children": [
        "IPY_MODEL_f79b90aadfb24eef98720586d44a92bf",
        "IPY_MODEL_eac579a6845f43dea81881e72e768272",
        "IPY_MODEL_c2c11593964c4db4a49744f46b7ea9d1"
       ],
       "layout": "IPY_MODEL_da0b4f0e50db4a3499695f8edb2cbe7a"
      }
     },
     "c2c11593964c4db4a49744f46b7ea9d1": {
      "model_module": "@jupyter-widgets/controls",
      "model_module_version": "1.4.0",
      "model_name": "ButtonModel",
      "state": {
       "description": "Adapt",
       "layout": "IPY_MODEL_fca387d5f12946e9bbbce7581a4179c4",
       "style": "IPY_MODEL_567482b84f664fa5ba8aca6a3def3a21"
      }
     },
     "cd80d4c0609748e8a6d00b14748ecd1b": {
      "model_module": "@jupyter-widgets/controls",
      "model_module_version": "1.4.0",
      "model_name": "HTMLModel",
      "state": {
       "layout": "IPY_MODEL_9763004b1aa64e80991f8f60196329f7",
       "style": "IPY_MODEL_a27a3e7966ab4c53bd69ded2ba5e8e9e",
       "value": "<p><b>Dashboard: </b><a href=\"/proxy/8787/status\" target=\"_blank\">/proxy/8787/status</a></p>\n"
      }
     },
     "d13cb955e0cb4d95bee44590871c56fb": {
      "model_module": "@jupyter-widgets/controls",
      "model_module_version": "1.4.0",
      "model_name": "ButtonModel",
      "state": {
       "description": "Scale",
       "layout": "IPY_MODEL_fca387d5f12946e9bbbce7581a4179c4",
       "style": "IPY_MODEL_dec1ed6b62cf4c94b872976f50c7c6e7"
      }
     },
     "da0b4f0e50db4a3499695f8edb2cbe7a": {
      "model_module": "@jupyter-widgets/base",
      "model_module_version": "1.1.0",
      "model_name": "LayoutModel",
      "state": {}
     },
     "dec1ed6b62cf4c94b872976f50c7c6e7": {
      "model_module": "@jupyter-widgets/controls",
      "model_module_version": "1.4.0",
      "model_name": "ButtonStyleModel",
      "state": {}
     },
     "e6ff42c45dba40f09cc83a18521132ef": {
      "model_module": "@jupyter-widgets/base",
      "model_module_version": "1.1.0",
      "model_name": "LayoutModel",
      "state": {
       "min_width": "500px"
      }
     },
     "eac579a6845f43dea81881e72e768272": {
      "model_module": "@jupyter-widgets/controls",
      "model_module_version": "1.4.0",
      "model_name": "IntTextModel",
      "state": {
       "description": "Maximum",
       "layout": "IPY_MODEL_fca387d5f12946e9bbbce7581a4179c4",
       "step": 1,
       "style": "IPY_MODEL_b7a03867241648dc87b347606e9d8868"
      }
     },
     "ebf6bd36007240d2a47706c48f23fbb3": {
      "model_module": "@jupyter-widgets/base",
      "model_module_version": "1.1.0",
      "model_name": "LayoutModel",
      "state": {}
     },
     "f223af6da9ab49d193908bb3265038c0": {
      "model_module": "@jupyter-widgets/base",
      "model_module_version": "1.1.0",
      "model_name": "LayoutModel",
      "state": {
       "min_width": "150px"
      }
     },
     "f2b3175064f742f9a45bcb6269c6d4a8": {
      "model_module": "@jupyter-widgets/controls",
      "model_module_version": "1.4.0",
      "model_name": "DescriptionStyleModel",
      "state": {
       "description_width": ""
      }
     },
     "f79b90aadfb24eef98720586d44a92bf": {
      "model_module": "@jupyter-widgets/controls",
      "model_module_version": "1.4.0",
      "model_name": "IntTextModel",
      "state": {
       "description": "Minimum",
       "layout": "IPY_MODEL_fca387d5f12946e9bbbce7581a4179c4",
       "step": 1,
       "style": "IPY_MODEL_84640ddff10a444c9e36928c5d03b4af"
      }
     },
     "fca387d5f12946e9bbbce7581a4179c4": {
      "model_module": "@jupyter-widgets/base",
      "model_module_version": "1.1.0",
      "model_name": "LayoutModel",
      "state": {
       "width": "150px"
      }
     },
     "ffc64aa00b0c4e19af41c093654d8aae": {
      "model_module": "@jupyter-widgets/base",
      "model_module_version": "1.1.0",
      "model_name": "LayoutModel",
      "state": {}
     }
    },
    "version_major": 2,
    "version_minor": 0
   }
  }
 },
 "nbformat": 4,
 "nbformat_minor": 4
}
